{
 "cells": [
  {
   "cell_type": "code",
   "execution_count": 1,
   "metadata": {},
   "outputs": [],
   "source": [
    "import datetime\n",
    "import pandas as pd"
   ]
  },
  {
   "cell_type": "code",
   "execution_count": 2,
   "metadata": {},
   "outputs": [],
   "source": [
    "holidays = {\n",
    "    \"thanks\": {\n",
    "        \"days\": [datetime.datetime(year=2019, month=11, day=28) + datetime.timedelta(days=x) for x in range(4)],\n",
    "        \"senior\": ['senior41', 'senior41', 'senior41', 'senior41'],\n",
    "        \"junior\": ['junior21', 'junior21', 'junior22', 'junior22']\n",
    "    },\n",
    "    #\"july4\": None,\n",
    "    #\"memorial\": None,\n",
    "    #\"labor\": None\n",
    "}\n"
   ]
  },
  {
   "cell_type": "code",
   "execution_count": 3,
   "metadata": {},
   "outputs": [],
   "source": [
    "residents = [\n",
    "    \"senior51\",\n",
    "    \"senior52\",\n",
    "    \"senior41\",\n",
    "    \"senior42\",\n",
    "    \"junior31\",\n",
    "    \"junior32\",\n",
    "    \"junior21\",\n",
    "    \"junior22\",\n",
    "]\n",
    "seniors = [x for x in residents if x.find('senior') > -1]\n",
    "juniors = [x for x in residents if x.find('junior') > -1]"
   ]
  },
  {
   "cell_type": "code",
   "execution_count": 4,
   "metadata": {},
   "outputs": [],
   "source": [
    "def rand_from_l(l):\n",
    "    \"\"\"\n",
    "    return a random element from a list\n",
    "    \"\"\"\n",
    "    index = int(random.random() * len(l))\n",
    "    return l[index]\n",
    "def is_fri_sat_sun(day):\n",
    "    return day.weekday() in (4,5,6)\n",
    "def is_fri_sun(day):\n",
    "    return day.weekday() in (4,6)\n",
    "def mon_thru_fri(day):\n",
    "    return day.weekday() in (0,1,2,3,4)\n",
    "\n",
    "def count_totals(calls):\n",
    "    names = {}\n",
    "    for elem in calls:\n",
    "        senior = elem[1]\n",
    "        junior = elem[2]\n",
    "        if senior not in names:\n",
    "            names[senior] = 0\n",
    "        if junior not in names:\n",
    "            names[junior] = 0\n",
    "        names[senior] += 1\n",
    "        names[junior] += 1\n",
    "    return names\n",
    "\n",
    "def count_weekends(calls):\n",
    "    names = {}\n",
    "    for elem in calls:\n",
    "        day_of_week = elem[0].weekday()\n",
    "        if day_of_week not in (5,6):\n",
    "            continue\n",
    "        senior = elem[1]\n",
    "        junior = elem[2]\n",
    "        if senior not in names:\n",
    "            names[senior] = 0\n",
    "        if junior not in names:\n",
    "            names[junior] = 0\n",
    "        names[senior] += 1\n",
    "        names[junior] += 1\n",
    "    return names\n",
    "\n",
    "def score_it(calls):\n",
    "    totals = count_totals(calls)\n",
    "    values = list(totals.values())\n",
    "    p1 = max(values) - min(values)\n",
    "    \n",
    "    totals = count_weekends(calls)\n",
    "    values = list(totals.values())\n",
    "    p2 = max(values) - min(values)\n",
    "    return p1 + p2\n",
    "\n",
    "def get_best_schedule(n_bootstraps=1000):\n",
    "    best_call = random_call_schedule()\n",
    "    for i in range(n_bootstraps):\n",
    "        my_call = random_call_schedule()\n",
    "        my_score = score_it(my_call)\n",
    "        if score_it(my_call) < score_it(best_call):\n",
    "            best_call = my_call\n",
    "    return best_call"
   ]
  },
  {
   "cell_type": "code",
   "execution_count": 5,
   "metadata": {},
   "outputs": [],
   "source": [
    "import random\n",
    "\n",
    "def is_holiday(day):\n",
    "    for k,v in holidays.items():\n",
    "        if day in v['days']:\n",
    "            my_index = v['days'].index(day)\n",
    "            return v['junior'][my_index], v['senior'][my_index], \n",
    "    return None\n",
    "\n",
    "def select_mon_thru_fri(calls, call_junior, call_senior):\n",
    "    if len(calls) == 0:\n",
    "        return None, None\n",
    "    last_senior = calls[-1][1]\n",
    "    last_junior = calls[-1][2]\n",
    "    while call_junior == last_junior:\n",
    "        call_junior = rand_from_l(juniors)\n",
    "    while call_senior == last_senior:\n",
    "        call_senior = rand_from_l(seniors)\n",
    "    return call_junior, call_senior\n",
    "\n",
    "\n",
    "def random_call_schedule(start_day=datetime.datetime(2019, 7, 1, 0, 0), \n",
    "                         end_day = datetime.datetime(2020, 1, 1, 0, 0)):\n",
    "    weekend_senior = seniors[0]\n",
    "    fri_sun_junior = None\n",
    "    calls = []\n",
    "    day = start_day\n",
    "    day_num = -1\n",
    "    while day < end_day:\n",
    "        day_num += 1\n",
    "        call_senior = rand_from_l(seniors)\n",
    "        call_junior = rand_from_l(juniors)\n",
    "        day = start_day + datetime.timedelta(days=day_num)\n",
    "        \n",
    "        retval = is_holiday(day)\n",
    "        if retval is not None:\n",
    "            call_junior, call_senior = retval\n",
    "            calls.append([day, call_senior, call_junior])\n",
    "            continue\n",
    "            \n",
    "        if mon_thru_fri(day):\n",
    "            r1, r2 = select_mon_thru_fri(calls, call_junior, call_senior)\n",
    "            if r1 is not None:\n",
    "                call_junior, call_senior = r1, r2\n",
    "        \n",
    "        if day.weekday() == 4:  # Friday set the junior and senior for the weekend\n",
    "            weekend_senior = call_senior\n",
    "            fri_sun_junior = call_junior\n",
    "            \n",
    "        if is_fri_sat_sun(day):\n",
    "            call_senior = weekend_senior\n",
    "        if is_fri_sun(day):\n",
    "            call_junior = fri_sun_junior\n",
    "        while day.weekday() == 5 and call_junior == fri_sun_junior:  # Don't let a junior do fri and sat\n",
    "            call_junior = rand_from_l(juniors)\n",
    "\n",
    "        calls.append([day, call_senior, call_junior])\n",
    "    return calls"
   ]
  },
  {
   "cell_type": "code",
   "execution_count": 6,
   "metadata": {},
   "outputs": [
    {
     "name": "stdout",
     "output_type": "stream",
     "text": [
      "0:00:00.815572\n"
     ]
    }
   ],
   "source": [
    "import time\n",
    "start_time = datetime.datetime.now()\n",
    "best_call = get_best_schedule(1000)\n",
    "end_time = datetime.datetime.now()\n",
    "print(end_time - start_time)"
   ]
  },
  {
   "cell_type": "code",
   "execution_count": 9,
   "metadata": {},
   "outputs": [],
   "source": [
    "\"\"\"\n",
    "Only the first two headers in this list are required, the rest are optional.\n",
    "\n",
    "Important: The headers must be in English as shown below. \n",
    "If any event details have commas (like the location example below), \n",
    "you can include them by using quotation marks around the text\n",
    "\n",
    "Subject\n",
    "The name of the event, required.\n",
    "Example: Final exam\n",
    "\n",
    "Start Date\n",
    "The first day of the event, required.\n",
    "Example: 05/30/2020\n",
    "\"\"\"\n",
    "import pandas as pd\n",
    "def date_to_s(d):\n",
    "    return \"%s/%s/%s\" % (d.month, d.day, d.year)\n",
    "\n",
    "\n",
    "def to_gcal(calls, fname):\n",
    "    table = []\n",
    "    \n",
    "    for c in calls:\n",
    "        my_day = date_to_s(c[0])\n",
    "        table.append([c[1], my_day])\n",
    "        table.append([c[2], my_day])\n",
    "    df = pd.DataFrame(table, columns=[\"Subject\",\"Start Date\"])\n",
    "    df.to_csv(fname, index=None)\n",
    "    return df"
   ]
  },
  {
   "cell_type": "code",
   "execution_count": 10,
   "metadata": {},
   "outputs": [],
   "source": [
    "df = to_gcal(best_call, \"call.csv\")"
   ]
  },
  {
   "cell_type": "code",
   "execution_count": 11,
   "metadata": {},
   "outputs": [
    {
     "data": {
      "text/plain": [
       "{'senior52': 45,\n",
       " 'junior31': 49,\n",
       " 'senior51': 45,\n",
       " 'junior21': 45,\n",
       " 'senior42': 50,\n",
       " 'junior32': 47,\n",
       " 'senior41': 45,\n",
       " 'junior22': 44}"
      ]
     },
     "execution_count": 11,
     "metadata": {},
     "output_type": "execute_result"
    }
   ],
   "source": [
    "count_totals(best_call)"
   ]
  },
  {
   "cell_type": "code",
   "execution_count": 12,
   "metadata": {},
   "outputs": [
    {
     "data": {
      "text/plain": [
       "{'senior41': 12,\n",
       " 'junior31': 14,\n",
       " 'junior22': 14,\n",
       " 'senior51': 12,\n",
       " 'senior52': 14,\n",
       " 'junior21': 12,\n",
       " 'junior32': 12,\n",
       " 'senior42': 14}"
      ]
     },
     "execution_count": 12,
     "metadata": {},
     "output_type": "execute_result"
    }
   ],
   "source": [
    "count_weekends(best_call)"
   ]
  },
  {
   "cell_type": "code",
   "execution_count": null,
   "metadata": {},
   "outputs": [],
   "source": []
  }
 ],
 "metadata": {
  "kernelspec": {
   "display_name": "Python 3",
   "language": "python",
   "name": "python3"
  },
  "language_info": {
   "codemirror_mode": {
    "name": "ipython",
    "version": 3
   },
   "file_extension": ".py",
   "mimetype": "text/x-python",
   "name": "python",
   "nbconvert_exporter": "python",
   "pygments_lexer": "ipython3",
   "version": "3.6.8"
  }
 },
 "nbformat": 4,
 "nbformat_minor": 2
}
