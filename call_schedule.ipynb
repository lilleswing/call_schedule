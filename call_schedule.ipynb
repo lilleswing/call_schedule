{
 "cells": [
  {
   "cell_type": "code",
   "execution_count": 1,
   "metadata": {},
   "outputs": [],
   "source": [
    "import datetime"
   ]
  },
  {
   "cell_type": "code",
   "execution_count": 2,
   "metadata": {},
   "outputs": [],
   "source": [
    "today = datetime.datetime.today()"
   ]
  },
  {
   "cell_type": "code",
   "execution_count": 3,
   "metadata": {},
   "outputs": [],
   "source": [
    "residents = [\n",
    "    (\"senior51\", 5),\n",
    "    (\"senior52\", 5),\n",
    "    (\"senior41\", 4),\n",
    "    (\"senior42\", 4),\n",
    "    (\"junior31\", 3),\n",
    "    (\"junior32\", 3),\n",
    "    (\"junior21\", 2),\n",
    "    (\"junior22\", 2)\n",
    "]"
   ]
  },
  {
   "cell_type": "code",
   "execution_count": 4,
   "metadata": {},
   "outputs": [],
   "source": [
    "seniors = [x for x in residents if x[1] in (4,5)]\n",
    "juniors = [x for x in residents if x[1] in (2,3)]"
   ]
  },
  {
   "cell_type": "code",
   "execution_count": 5,
   "metadata": {},
   "outputs": [],
   "source": [
    "def rand_from_l(l):\n",
    "    index = int(random.random() * len(l))\n",
    "    return l[index]"
   ]
  },
  {
   "cell_type": "code",
   "execution_count": 6,
   "metadata": {},
   "outputs": [],
   "source": [
    "def is_fri_sat_sun(day):\n",
    "    return day.weekday() in (4,5,6)\n",
    "def is_fri_sun(day):\n",
    "    return day.weekday() in (4,6)\n",
    "\n",
    "def mon_thru_fri(day):\n",
    "    return day.weekday() in (0,1,2,3,4)"
   ]
  },
  {
   "cell_type": "code",
   "execution_count": 7,
   "metadata": {},
   "outputs": [],
   "source": [
    "today = datetime.datetime(year=2019, month=7, day=1)"
   ]
  },
  {
   "cell_type": "code",
   "execution_count": 8,
   "metadata": {},
   "outputs": [],
   "source": [
    "import random\n",
    "\n",
    "holidays = {\n",
    "    \"thanks\": {\n",
    "        \"days\": [datetime.datetime(year=2019, month=11, day=28) + datetime.timedelta(days=x) for x in range(4)],\n",
    "        \"senior\": [('senior41', 4), ('senior41', 4), ('senior41', 4), ('senior41', 4)],\n",
    "        \"junior\": [('junior21', 2), ('junior21', 2), ('junior22', 2), ('junior22', 2)]\n",
    "    },\n",
    "    #\"july4\": None,\n",
    "    #\"memorial\": None,\n",
    "    #\"labor\": None\n",
    "}\n",
    "thanksgiving = []\n",
    "\n",
    "def is_holiday(day):\n",
    "    for k,v in holidays.items():\n",
    "        if day in v['days']:\n",
    "            my_index = v['days'].index(day)\n",
    "            return v['senior'][my_index], v['junior'][my_index]\n",
    "    return None\n",
    "\n",
    "def random_call_schedule():\n",
    "    today = datetime.datetime(2019, 7, 1, 0, 0)\n",
    "    weekend_senior = seniors[0]\n",
    "    fri_sun_junior = None\n",
    "    calls = []\n",
    "    for i in range(182):\n",
    "        call_senior = rand_from_l(seniors)\n",
    "        call_junior = rand_from_l(juniors)\n",
    "        day = today + datetime.timedelta(days=i)\n",
    "        retval = is_holiday(day)\n",
    "        if retval is not None:\n",
    "            call_senior, call_junior = retval\n",
    "            calls.append([day, call_senior, call_junior])\n",
    "            continue\n",
    "        \n",
    "        if mon_thru_fri(day):\n",
    "            if len(calls) != 0:\n",
    "                last_senior = calls[-1][1]\n",
    "                last_junior = calls[-1][2]\n",
    "                while call_junior == last_junior:\n",
    "                    call_junior = rand_from_l(juniors)\n",
    "                while call_senior == last_senior:\n",
    "                    call_senior = rand_from_l(seniors)\n",
    "        \n",
    "        if day.weekday() == 4:\n",
    "            weekend_senior = call_senior\n",
    "            fri_sun_junior = call_junior\n",
    "            \n",
    "        if is_fri_sat_sun(day):\n",
    "            call_senior = weekend_senior\n",
    "        if is_fri_sun(day):\n",
    "            call_junior = fri_sun_junior\n",
    "        while day.weekday() == 5 and call_junior == fri_sun_junior:\n",
    "            call_junior = rand_from_l(juniors)\n",
    "\n",
    "        calls.append([day, call_senior, call_junior])\n",
    "    return calls"
   ]
  },
  {
   "cell_type": "code",
   "execution_count": 9,
   "metadata": {},
   "outputs": [],
   "source": [
    "def count_totals(calls):\n",
    "    names = {}\n",
    "    for elem in calls:\n",
    "        senior = elem[1][0]\n",
    "        junior = elem[2][0]\n",
    "        if senior not in names:\n",
    "            names[senior] = 0\n",
    "        if junior not in names:\n",
    "            names[junior] = 0\n",
    "        names[senior] += 1\n",
    "        names[junior] += 1\n",
    "    return names\n",
    "\n",
    "def count_weekends(calls):\n",
    "    names = {}\n",
    "    for elem in calls:\n",
    "        day_of_week = elem[0].weekday()\n",
    "        if day_of_week not in (5,6):\n",
    "            continue\n",
    "        senior = elem[1][0]\n",
    "        junior = elem[2][0]\n",
    "        if senior not in names:\n",
    "            names[senior] = 0\n",
    "        if junior not in names:\n",
    "            names[junior] = 0\n",
    "        names[senior] += 1\n",
    "        names[junior] += 1\n",
    "    return names"
   ]
  },
  {
   "cell_type": "code",
   "execution_count": 10,
   "metadata": {},
   "outputs": [],
   "source": [
    "def score_it(calls):\n",
    "    totals = count_totals(calls)\n",
    "    values = list(totals.values())\n",
    "    p1 = max(values) - min(values)\n",
    "    \n",
    "    totals = count_weekends(calls)\n",
    "    values = list(totals.values())\n",
    "    p2 = max(values) - min(values)\n",
    "    return p1 + p2"
   ]
  },
  {
   "cell_type": "code",
   "execution_count": 13,
   "metadata": {},
   "outputs": [],
   "source": [
    "def get_best_schedule(n_bootstraps=1000):\n",
    "    best_call = random_call_schedule()\n",
    "    for i in range(n_bootstraps):\n",
    "        my_call = random_call_schedule()\n",
    "        my_score = score_it(my_call)\n",
    "        if score_it(my_call) < score_it(best_call):\n",
    "            best_call = my_call\n",
    "    return best_call"
   ]
  },
  {
   "cell_type": "code",
   "execution_count": 14,
   "metadata": {},
   "outputs": [
    {
     "name": "stdout",
     "output_type": "stream",
     "text": [
      "0:01:15.817208\n"
     ]
    }
   ],
   "source": [
    "import time\n",
    "start_time = datetime.datetime.now()\n",
    "best_call = get_best_schedule(100000)\n",
    "end_time = datetime.datetime.now()\n",
    "print(end_time - start_time)"
   ]
  },
  {
   "cell_type": "code",
   "execution_count": 15,
   "metadata": {},
   "outputs": [],
   "source": [
    "dows = {\n",
    "    0: \"Monday\",\n",
    "    1: \"Tuesday\",\n",
    "    2: \"Wednesday\",\n",
    "    3: \"Thursday\",\n",
    "    4: \"Friday\",\n",
    "    5: \"Saturday\",\n",
    "    6: \"Sunday\"\n",
    "}\n",
    "def print_call(calls, person=None):\n",
    "    if person is None:\n",
    "        people = [x[0] for x in residents]\n",
    "    else:\n",
    "        people = [person]\n",
    "    for c in calls:\n",
    "        if c[1][0] in people or c[2][0] in people:\n",
    "            dow = dows[c[0].weekday()]\n",
    "            print([dow] + [str(x) for x in c])"
   ]
  },
  {
   "cell_type": "code",
   "execution_count": 22,
   "metadata": {},
   "outputs": [],
   "source": [
    "def fixed_length(s):\n",
    "    return s[-2:]\n",
    "\n",
    "def print_call_grid(calls):\n",
    "    s = \"(NA,NA)\"\n",
    "    for c in calls:\n",
    "        dow = dows[c[0].weekday()]\n",
    "        if dow == \"Sunday\":\n",
    "            joiner = \"\\n\"\n",
    "        else:\n",
    "            joiner = \",\"\n",
    "        day_s = \"(%s:%s)\" % (fixed_length(c[1][0]), fixed_length(c[2][0]))\n",
    "        s = \"%s%s%s\" % (s, joiner, day_s)\n",
    "    print(s)"
   ]
  },
  {
   "cell_type": "code",
   "execution_count": 23,
   "metadata": {},
   "outputs": [
    {
     "name": "stdout",
     "output_type": "stream",
     "text": [
      "(NA,NA),(41:22),(42:21),(41:22),(42:21),(41:31),(41:32)\n",
      "(41:31),(42:32),(41:22),(52:32),(51:31),(42:21),(42:32)\n",
      "(42:21),(41:32),(51:22),(41:21),(52:32),(41:31),(41:21)\n",
      "(41:31),(51:21),(42:22),(41:21),(51:31),(52:22),(52:21)\n",
      "(52:22),(41:32),(51:31),(41:22),(51:31),(52:22),(52:32)\n",
      "(52:22),(51:21),(52:32),(51:22),(41:31),(42:32),(42:22)\n",
      "(42:32),(52:22),(42:21),(52:31),(41:32),(42:21),(42:22)\n",
      "(42:21),(52:22),(42:21),(41:22),(52:32),(51:22),(51:31)\n",
      "(51:22),(52:32),(42:22),(52:31),(51:32),(42:31),(42:21)\n",
      "(42:31),(52:21),(51:31),(52:22),(42:31),(41:32),(41:22)\n",
      "(41:32),(52:31),(42:22),(51:31),(42:21),(51:32),(51:21)\n",
      "(51:32),(42:31),(52:21),(42:31),(51:22),(42:32),(42:31)\n",
      "(42:32),(52:31),(51:21),(42:22),(51:21),(52:22),(52:21)\n",
      "(52:22),(41:32),(42:31),(41:22),(42:31),(51:32),(51:21)\n",
      "(51:32),(52:21),(42:31),(51:32),(42:22),(41:31),(41:32)\n",
      "(41:31),(51:32),(42:22),(52:31),(42:22),(51:32),(51:21)\n",
      "(51:32),(41:22),(51:31),(41:21),(51:22),(41:21),(41:31)\n",
      "(41:21),(42:31),(41:21),(42:32),(51:31),(41:32),(41:21)\n",
      "(41:32),(52:21),(51:22),(52:21),(51:32),(52:22),(52:31)\n",
      "(52:22),(51:32),(52:22),(51:31),(42:21),(51:32),(51:31)\n",
      "(51:32),(41:21),(42:22),(52:32),(41:31),(52:21),(52:22)\n",
      "(52:21),(42:32),(52:21),(51:31),(41:21),(41:21),(41:22)\n",
      "(41:22),(51:32),(42:31),(41:21),(52:32),(42:31),(42:32)\n",
      "(42:31),(51:21),(41:22),(42:21),(51:32),(52:22),(52:31)\n",
      "(52:22),(51:21),(42:31),(52:32),(41:21),(51:22),(51:31)\n",
      "(51:22),(41:21),(52:22),(42:21),(41:32),(52:31),(52:21)\n",
      "(52:31)\n"
     ]
    }
   ],
   "source": [
    "print_call_grid(best_call)"
   ]
  },
  {
   "cell_type": "code",
   "execution_count": 41,
   "metadata": {},
   "outputs": [],
   "source": [
    "\"\"\"\n",
    "Only the first two headers in this list are required, the rest are optional.\n",
    "\n",
    "Important: The headers must be in English as shown below. If any event details have commas (like the location example below), you can include them by using quotation marks around the text\n",
    "\n",
    "Subject\n",
    "The name of the event, required.\n",
    "Example: Final exam\n",
    "\n",
    "Start Date\n",
    "The first day of the event, required.\n",
    "Example: 05/30/2020\n",
    "\n",
    "Start Time\n",
    "The time the event begins.\n",
    "Example: 10:00 AM\n",
    "\n",
    "End Date\n",
    "The last day of the event.\n",
    "Example: 05/30/2020\n",
    "\n",
    "End Time\n",
    "The time the event ends.\n",
    "Example: 1:00 PM\n",
    "All Day Event\n",
    "Whether the event is an all-day event. Enter True if it is an all-day event, and False if it isn't.\n",
    "Example: False\n",
    "Description\n",
    "Description or notes about the event.\n",
    "Example: 50 multiple choice questions and two essay questions \n",
    "Location\n",
    "The location for the event.\n",
    "Example: \"Columbia, Schermerhorn 614\"\n",
    "Private\n",
    "Whether the event should be marked private. Enter True if the event is private, and False if it isn't.\n",
    "Example: True\n",
    "The examples above would create the event \"Final exam\" on May 30, 2020 from 10:00 AM to 1:00 PM. The location would be \"Columbia, Schermerhorn 614,\" the description would be \"50 multiple choice questions and two essay questions,\" and it would be a private event.\n",
    "\"\"\"\n",
    "def date_to_s(d):\n",
    "    return \"%s/%s/%s\" % (d.month, d.day, d.year)\n",
    "\n",
    "\n",
    "def to_gcal(calls, fname):\n",
    "    table = []\n",
    "    \n",
    "    for c in calls:\n",
    "        dow = dows[c[0].weekday()]\n",
    "        my_day = date_to_s(c[0])\n",
    "        subject = c[1][0]\n",
    "        table.append([c[1][0], my_day])\n",
    "        table.append([c[2][0], my_day])\n",
    "    df = pd.DataFrame(table, columns=[\"Subject\",\"Start Date\"])\n",
    "    df.to_csv(fname, index=None)\n",
    "    return df"
   ]
  },
  {
   "cell_type": "code",
   "execution_count": 42,
   "metadata": {},
   "outputs": [],
   "source": [
    "df = to_gcal(best_call, \"call.csv\")"
   ]
  },
  {
   "cell_type": "code",
   "execution_count": 28,
   "metadata": {},
   "outputs": [],
   "source": [
    "import pandas as pd"
   ]
  },
  {
   "cell_type": "code",
   "execution_count": 43,
   "metadata": {},
   "outputs": [
    {
     "data": {
      "text/plain": [
       "{'senior41': 45,\n",
       " 'junior22': 46,\n",
       " 'senior42': 46,\n",
       " 'junior21': 47,\n",
       " 'junior31': 45,\n",
       " 'junior32': 44,\n",
       " 'senior52': 45,\n",
       " 'senior51': 46}"
      ]
     },
     "execution_count": 43,
     "metadata": {},
     "output_type": "execute_result"
    }
   ],
   "source": [
    "count_totals(best_call)"
   ]
  },
  {
   "cell_type": "code",
   "execution_count": 44,
   "metadata": {},
   "outputs": [
    {
     "data": {
      "text/plain": [
       "{'senior41': 14,\n",
       " 'junior32': 13,\n",
       " 'junior31': 13,\n",
       " 'senior42': 12,\n",
       " 'junior21': 13,\n",
       " 'senior52': 14,\n",
       " 'junior22': 13,\n",
       " 'senior51': 12}"
      ]
     },
     "execution_count": 44,
     "metadata": {},
     "output_type": "execute_result"
    }
   ],
   "source": [
    "count_weekends(best_call)"
   ]
  },
  {
   "cell_type": "code",
   "execution_count": null,
   "metadata": {},
   "outputs": [],
   "source": []
  }
 ],
 "metadata": {
  "kernelspec": {
   "display_name": "Python 3",
   "language": "python",
   "name": "python3"
  },
  "language_info": {
   "codemirror_mode": {
    "name": "ipython",
    "version": 3
   },
   "file_extension": ".py",
   "mimetype": "text/x-python",
   "name": "python",
   "nbconvert_exporter": "python",
   "pygments_lexer": "ipython3",
   "version": "3.6.8"
  }
 },
 "nbformat": 4,
 "nbformat_minor": 2
}
